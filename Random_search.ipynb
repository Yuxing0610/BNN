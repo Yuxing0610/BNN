{
 "cells": [
  {
   "cell_type": "code",
   "execution_count": 15,
   "metadata": {},
   "outputs": [],
   "source": [
    "import torch\n",
    "import torch.nn as nn\n",
    "from torch.utils.data import DataLoader\n",
    "import numpy as np\n",
    "import torchvision\n",
    "from torchvision import transforms\n",
    "import matplotlib as plt\n",
    "import cmath"
   ]
  },
  {
   "cell_type": "code",
   "execution_count": 14,
   "metadata": {},
   "outputs": [
    {
     "name": "stdout",
     "output_type": "stream",
     "text": [
      "cuda\n"
     ]
    }
   ],
   "source": [
    "def get_default_device():\n",
    "    \"\"\"Pick GPU if available, else CPU\"\"\"\n",
    "    if torch.cuda.is_available():\n",
    "        return torch.device('cuda')\n",
    "    else:\n",
    "        return torch.device('cpu')\n",
    "DEVICE = get_default_device()\n",
    "print(DEVICE)"
   ]
  },
  {
   "cell_type": "code",
   "execution_count": 15,
   "metadata": {},
   "outputs": [],
   "source": [
    "def switch_to_device(dataset, device = None):\n",
    "    tensor_list_x, tensor_list_y = [], []\n",
    "\n",
    "    for x, y in dataset:\n",
    "        tensor_list_x.append(x)\n",
    "        tensor_list_y.append(y)\n",
    "    \n",
    "    X = torch.stack(tensor_list_x)\n",
    "    Y = torch.tensor(tensor_list_y)\n",
    "\n",
    "    if DEVICE is not None:\n",
    "        X = X.to(DEVICE)\n",
    "        Y = Y.to(DEVICE)\n",
    "    \n",
    "    return torch.utils.data.TensorDataset(X, Y)"
   ]
  },
  {
   "cell_type": "code",
   "execution_count": 16,
   "metadata": {},
   "outputs": [],
   "source": [
    "def get_mnist_dl(batch_size_train = 256, batch_size_valid = 1024, device = None):\n",
    "    transform = transforms.Compose([transforms.ToTensor()])\n",
    "\n",
    "    data_train = torchvision.datasets.MNIST('./mnist', train = True, download = True, transform = transform)\n",
    "    data_train = switch_to_device(data_train, device)\n",
    "    data_train, data_valid = torch.utils.data.random_split(data_train, [55000, 5000])\n",
    "\n",
    "    data_test = torchvision.datasets.MNIST('./mnist', train = False, download = True, transform = transform)\n",
    "    data_test = switch_to_device(data_test, device)\n",
    "\n",
    "    train_dl = DataLoader(data_train, batch_size=batch_size_train, shuffle=True)\n",
    "    valid_dl = DataLoader(data_valid, batch_size=batch_size_valid, shuffle=False)\n",
    "    test_dl = DataLoader(data_test, batch_size=batch_size_valid, shuffle=False)\n",
    "\n",
    "    return train_dl, valid_dl, test_dl"
   ]
  },
  {
   "cell_type": "code",
   "execution_count": 142,
   "metadata": {},
   "outputs": [],
   "source": [
    "def possibility_normalize(possi, non_zero_perc, slimness):\n",
    "    mean = torch.mean(possi)\n",
    "    std = torch.std(possi)\n",
    "    new_possi = ((possi - mean)/std*non_zero_perc*slimness) + non_zero_perc\n",
    "    new_possi = torch.clip(new_possi, 0, 1)\n",
    "    return new_possi"
   ]
  },
  {
   "cell_type": "code",
   "execution_count": 164,
   "metadata": {},
   "outputs": [],
   "source": [
    "def delta_generation(possi):\n",
    "    non_zero = torch.bernoulli(possi)\n",
    "    possi_ = non_zero/2\n",
    "    neg_pos = torch.bernoulli(possi_)\n",
    "    res = non_zero - 2*neg_pos\n",
    "    return res"
   ]
  },
  {
   "cell_type": "code",
   "execution_count": 157,
   "metadata": {},
   "outputs": [],
   "source": [
    "def quantization(x, q_bits):\n",
    "    q_max = 2 ** q_bits - 1\n",
    "    x_max = torch.max(x)\n",
    "    x_min = torch.min(x)\n",
    "    q_x = q_max*(x - x_min)/(x_max - x_min)\n",
    "    q_x = torch.round(q_x)\n",
    "    return q_x"
   ]
  },
  {
   "cell_type": "code",
   "execution_count": 172,
   "metadata": {},
   "outputs": [],
   "source": [
    "def q_f_multiplication(q_a, q_w, b_a, b_w):\n",
    "    term_1 = 2*(torch.matmul(q_a, q_w))/((2 ** b_a - 1)*(2 ** b_w - 1))\n",
    "    term_2 = torch.matmul(q_a, torch.ones(q_w.shape)) / (2 ** b_a - 1)\n",
    "    return term_1 - term_2"
   ]
  },
  {
   "cell_type": "code",
   "execution_count": 19,
   "metadata": {},
   "outputs": [
    {
     "ename": "IndentationError",
     "evalue": "expected an indented block (2426136956.py, line 32)",
     "output_type": "error",
     "traceback": [
      "\u001b[0;36m  Input \u001b[0;32mIn [19]\u001b[0;36m\u001b[0m\n\u001b[0;31m    @torch.no_grad()\u001b[0m\n\u001b[0m    ^\u001b[0m\n\u001b[0;31mIndentationError\u001b[0m\u001b[0;31m:\u001b[0m expected an indented block\n"
     ]
    }
   ],
   "source": [
    "class QLinear:\n",
    "    @torch.no_grad()\n",
    "    def __init__(self, input_num, output_num, qa_flag = True, qa_bits = 2, qw_bits = 2, qb_bits = 2, device = None):\n",
    "        if device is None:\n",
    "            print(\"Must have device\")\n",
    "            return\n",
    "        self.device = device\n",
    "        self.input_num, self.output_num = input_num, output_num\n",
    "        self.qa_bits, self.qw_bits, self.qb_bits = qa_bits, qw_bits, qb_bits\n",
    "        self.weights = torch.randint(0, 2**self.qw_bits, (self.input_num, self.output_num)).to(device)\n",
    "        self.bias = torch.randint(0, 2**self.qb_bits, (1, self.output_num)).to(device)\n",
    "        self.w_u = torch.zeros(self.input_num, self.output_num).to(device)\n",
    "        self.b_u = torch.zeros(1, self.output_num).to(device)\n",
    "        self.w_pickflag = torch.zeros(self.input_num, self.output_num).to(device)\n",
    "        self.b_pickflag = torch.zeros(1, self.output_num).to(device)\n",
    "        self.w_p = torch.full((self.input_num, self.output_num), 1000).to(device)\n",
    "        self.b_p = torch.full((1, self.output_num), 1000).to(device)\n",
    "        self.qa_flag = qa_flag\n",
    "    \n",
    "    @torch.no_grad()\n",
    "    def forward(self, input):\n",
    "        self.w_u = torch.zeros(self.input_num, self.output_num).to(self.device)\n",
    "        self.b_u = torch.zeros(1, self.output_num).to(self.device)\n",
    "        self.w_p = torch.full((self.input_num, self.output_num), 1000).to(self.device)\n",
    "        self.b_p = torch.full((1, self.output_num), 1000).to(self.device)\n",
    "        self.w_pickflag = torch.zeros(self.input_num, self.output_num).to(self.device)\n",
    "        self.b_pickflag = torch.zeros(1, self.output_num).to(self.device)\n",
    "        \n",
    "        if self.qa_flag:\n",
    "            q_input = quantization(input, self.qa_bits)\n",
    "            res = torch.matmul(q_input, self.weights) + self.bias\n",
    "        else:\n",
    "            res = torch.matmul(input, self.weights) + self.bias\n",
    "\n",
    "        return res\n",
    "\n",
    "    @torch.no_grad()\n",
    "    def random_search(self, input, non_zero_percent):\n",
    "        if non_zero_percent>0.5:\n",
    "            slimness = 1-non_zero_percent\n",
    "        else:\n",
    "            slimness = non_zero_percent\n",
    "\n",
    "        temp_wp = possibility_normalize(self.w_p, non_zero_perc=non_zero_percent, slimness=slimness)\n",
    "        temp_bp = possibility_normalize(self.b_p, non_zero_perc=non_zero_percent, slimness=slimness)\n",
    "        self.delta_matrix_w = delta_generation(temp_wp)\n",
    "        self.delta_matrix_b = delta_generation(temp_bp)\n",
    "\n",
    "        temp_weights = torch.clip(self.weights + self.delta_matrix_w, 0, 2**(self.qw_bits) - 1)\n",
    "        temp_bias = torch.clip(self.bias + self.delta_matrix_b, 0, 2**(self.qb_bits) - 1)\n",
    "\n",
    "        self.delta_matrix_w = temp_weights - self.weights\n",
    "        self.delta_matrix_b = temp_bias - self.bias\n",
    "\n",
    "        self.w_pickflag = (self.w_pickflag + torch.abs(self.delta_matrix_w)) > 0\n",
    "        self.b_pickflag = (self.b_pickflag + torch.abs(self.delta_matrix_b)) > 0\n",
    "\n",
    "        if self.qa_flag:\n",
    "            q_input = quantization(input, self.qa_bits)\n",
    "            res = torch.matmul(q_input, temp_weights) + temp_bias\n",
    "        else:\n",
    "            res = torch.matmul(input, temp_weights) + temp_bias\n",
    "\n",
    "        return res\n",
    "\n",
    "    @torch.no_grad()\n",
    "    def mid_update(self, delta_loss):\n",
    "        self.w_u = self.w_u + (delta_loss * self.delta_matrix_w)\n",
    "        self.b_u = self.b_u + (delta_loss * self.delta_matrix_b)\n",
    "\n",
    "        self.w_p = torch.mul(self.w_pickflag, self.w_p)/2 + torch.abs(delta_loss) * torch.abs(self.delta_matrix_w)/(torch.ones(self.w_pickflag) + self.w_pickflag)\n",
    "        self.w_b = torch.mul(self.b_pickflag, self.b_p)/2 + torch.abs(delta_loss) * torch.abs(self.delta_matrix_b)/(torch.ones(self.b_pickflag) + self.b_pickflag)\n",
    "\n",
    "    @torch.no_grad()\n",
    "    def final_update(self, total_delta_loss, c):\n",
    "        plus_matrix_w = torch.zeros(self.weights.shape).to(self.device)\n",
    "        minus_matrix_w = torch.zeros(self.weights.shape).to(self.device)\n",
    "        plus_matrix_w[self.w_u >= (c*total_delta_loss)] = 1\n",
    "        minus_matrix_w[self.w_u <= -(c*total_delta_loss)] = -1\n",
    "        self.weights = self.weights + plus_matrix_w + minus_matrix_w\n",
    "\n",
    "        plus_matrix_b = torch.zeros(self.bias.shape).to(self.device)\n",
    "        minus_matrix_b = torch.zeros(self.bias.shape).to(self.device)\n",
    "        plus_matrix_b[self.b_u >= (c*total_delta_loss)] = 1\n",
    "        minus_matrix_b[self.b_u <= -(c*total_delta_loss)] = -1\n",
    "        self.bias = self.bias + plus_matrix_b + minus_matrix_b"
   ]
  },
  {
   "cell_type": "code",
   "execution_count": 34,
   "metadata": {},
   "outputs": [
    {
     "data": {
      "text/plain": [
       "tensor([[100, 100, 100],\n",
       "        [100, 100, 100]])"
      ]
     },
     "execution_count": 34,
     "metadata": {},
     "output_type": "execute_result"
    }
   ],
   "source": [
    "a = torch.tensor(-1)\n",
    "torch.abs(a) * torch.full((2, 3), 100)"
   ]
  },
  {
   "cell_type": "code",
   "execution_count": null,
   "metadata": {},
   "outputs": [],
   "source": [
    "class MLP_Nets():\n",
    "    def __init__(selff):\n",
    "        return 0\n",
    "    \n",
    "    def foward(self, input):\n",
    "        return 0\n",
    "\n",
    "    def update():\n",
    "        return 0"
   ]
  },
  {
   "cell_type": "code",
   "execution_count": 3,
   "metadata": {},
   "outputs": [],
   "source": [
    "def print_stats(stats):\n",
    "    fig, (ax1, ax2) = plt.subplots(1, 2, figsize = (7, 3), dpi = 110)\n",
    "    ax1.grid()\n",
    "    ax2.grid()\n",
    "\n",
    "    ax1.set_title(\"ERM loss\")\n",
    "    ax2.set_title(\"Valid Acc\")\n",
    "\n",
    "    ax1.setxlabel(\"iterations\")\n",
    "    ax2.setxlabel(\"iterations\")\n",
    "\n",
    "    itrs = [x[0] for x in stats['train-loss']]\n",
    "    loss = [x[1] for x in stats['train-loss']]\n",
    "    ax1.plot(itrs, loss)\n",
    "\n",
    "    itrs = [x[0] for x in stats['valid-acc']]\n",
    "    loss = [x[1] for x in stats['valid-acc']]\n",
    "    ax2.plot(itrs, acc)\n",
    "\n",
    "    ax1.set_ylim(0.0, 4.05)\n",
    "    ax2.set_ylim(0.0, 1.05)\n"
   ]
  },
  {
   "cell_type": "code",
   "execution_count": null,
   "metadata": {},
   "outputs": [],
   "source": [
    "@torch.no_grad()\n",
    "def get_acc(model, dl):\n",
    "    acc = []\n",
    "\n",
    "    for X, y in dl:\n",
    "        model.forward(X)\n",
    "        acc.append(torch.argmax(model.output, dim = 1) == y)\n",
    "\n",
    "    acc = torch.cat(acc)\n",
    "    acc = torch.sum(acc)/len(acc)\n",
    "\n",
    "    return acc.item()\n",
    "\n"
   ]
  }
 ],
 "metadata": {
  "kernelspec": {
   "display_name": "Python 3.9.12 ('test_env': conda)",
   "language": "python",
   "name": "python3"
  },
  "language_info": {
   "codemirror_mode": {
    "name": "ipython",
    "version": 3
   },
   "file_extension": ".py",
   "mimetype": "text/x-python",
   "name": "python",
   "nbconvert_exporter": "python",
   "pygments_lexer": "ipython3",
   "version": "3.9.12"
  },
  "orig_nbformat": 4,
  "vscode": {
   "interpreter": {
    "hash": "3740b4c8389f643b958801bf28dfaa46be3508a87b50265337019eadb57ea2b9"
   }
  }
 },
 "nbformat": 4,
 "nbformat_minor": 2
}
